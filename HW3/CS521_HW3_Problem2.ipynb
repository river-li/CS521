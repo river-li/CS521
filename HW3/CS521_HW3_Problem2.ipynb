{
  "cells": [
    {
      "cell_type": "markdown",
      "metadata": {
        "id": "view-in-github",
        "colab_type": "text"
      },
      "source": [
        "<a href=\"https://colab.research.google.com/github/river-li/CS521/blob/main/CS521_HW3_Problem2.ipynb\" target=\"_parent\"><img src=\"https://colab.research.google.com/assets/colab-badge.svg\" alt=\"Open In Colab\"/></a>"
      ]
    },
    {
      "cell_type": "markdown",
      "id": "bbe70a96",
      "metadata": {
        "id": "bbe70a96"
      },
      "source": [
        "## Interval Analysis"
      ]
    },
    {
      "cell_type": "code",
      "execution_count": 55,
      "id": "6bbda12e",
      "metadata": {
        "colab": {
          "base_uri": "https://localhost:8080/"
        },
        "id": "6bbda12e",
        "outputId": "f96e2b47-e14c-4745-ed14-924aa59071ad"
      },
      "outputs": [
        {
          "output_type": "execute_result",
          "data": {
            "text/plain": [
              "Net(\n",
              "  (fc1): Linear(in_features=784, out_features=50, bias=True)\n",
              "  (fc2): Linear(in_features=50, out_features=50, bias=True)\n",
              "  (fc3): Linear(in_features=50, out_features=50, bias=True)\n",
              "  (final): Linear(in_features=50, out_features=10, bias=True)\n",
              ")"
            ]
          },
          "metadata": {},
          "execution_count": 55
        }
      ],
      "source": [
        "# !pip install tensorboardX\n",
        "\n",
        "import torch\n",
        "import torch.nn as nn\n",
        "import torch.optim as optim\n",
        "import torch.nn.functional as F\n",
        "import numpy as np\n",
        "import time\n",
        "import matplotlib.pyplot as plt\n",
        "\n",
        "from torchvision import datasets, transforms\n",
        "# from tensorboardX import SummaryWriter\n",
        "\n",
        "use_cuda = False\n",
        "device = torch.device(\"cuda\" if use_cuda else \"cpu\")\n",
        "batch_size = 64\n",
        "\n",
        "np.random.seed(42)\n",
        "torch.manual_seed(42)\n",
        "\n",
        "\n",
        "## Dataloaders\n",
        "train_dataset = datasets.MNIST('mnist_data/', train=True, download=True, transform=transforms.Compose(\n",
        "    [transforms.ToTensor()]\n",
        "))\n",
        "test_dataset = datasets.MNIST('mnist_data/', train=False, download=True, transform=transforms.Compose(\n",
        "    [transforms.ToTensor()]\n",
        "))\n",
        "\n",
        "train_loader = torch.utils.data.DataLoader(train_dataset, batch_size=batch_size, shuffle=True)\n",
        "test_loader = torch.utils.data.DataLoader(test_dataset, batch_size=batch_size, shuffle=False)\n",
        "\n",
        "class Net(nn.Sequential):\n",
        "    def __init__(self):\n",
        "        super(Net, self).__init__()\n",
        "        self.fc1 = nn.Linear(28*28, 50)\n",
        "        self.fc2 = nn.Linear(50, 50)\n",
        "        self.fc3 = nn.Linear(50, 50)\n",
        "        self.final = nn.Linear(50, 10)\n",
        "\n",
        "    def forward(self, x):\n",
        "        x = (x - 0.1307)/0.3081\n",
        "        x = x.view((-1, 28*28))\n",
        "        x = F.relu(self.fc1(x))\n",
        "        x = F.relu(self.fc2(x))\n",
        "        x = F.relu(self.fc3(x))\n",
        "        x = self.final(x)\n",
        "        return x\n",
        "\n",
        "class Normalize(nn.Module):\n",
        "    def forward(self, x):\n",
        "        return (x - 0.1307)/0.3081\n",
        "\n",
        "#model = nn.Sequential(Normalize(), Net())\n",
        "model = Net()\n",
        "\n",
        "model = model.to(device)\n",
        "model.train()\n"
      ]
    },
    {
      "cell_type": "code",
      "source": [
        "def ibp_linear(lo, hi, W, b):\n",
        "    mu = (lo + hi) / 2.0\n",
        "    r  = (hi - lo) / 2.0\n",
        "    mu_next = mu @ W.t() + b\n",
        "    r_next  = r  @ W.abs().t()\n",
        "    return mu_next - r_next, mu_next + r_next\n",
        "\n",
        "def ibp_relu(lo, hi):\n",
        "    return F.relu(lo), F.relu(hi)\n",
        "\n",
        "def ibp_penultimate_bounds(model, x, eps):\n",
        "    # clamp to valid image range; model expects [0,1]\n",
        "    x = x.view(x.size(0), -1)\n",
        "    lo = torch.clamp(x - eps, 0.0, 1.0)\n",
        "    hi = torch.clamp(x + eps, 0.0, 1.0)\n",
        "\n",
        "    # normalize\n",
        "    lo = (lo - 0.1307)/0.3081\n",
        "    hi = (hi - 0.1307)/0.3081\n",
        "\n",
        "    lo, hi = ibp_linear(lo, hi, model.fc1.weight, model.fc1.bias); lo, hi = ibp_relu(lo, hi)\n",
        "    lo, hi = ibp_linear(lo, hi, model.fc2.weight, model.fc2.bias); lo, hi = ibp_relu(lo, hi)\n",
        "    lo, hi = ibp_linear(lo, hi, model.fc3.weight, model.fc3.bias); lo, hi = ibp_relu(lo, hi)\n",
        "    return lo, hi\n",
        "\n",
        "def robust_ce_upper_bound(model, x, y, eps):\n",
        "    lo, hi = ibp_penultimate_bounds(model, x, eps)\n",
        "    W = model.final.weight    # (10, 50)\n",
        "    b = model.final.bias      # (10,)\n",
        "    B = lo.size(0); C = W.size(0)\n",
        "    Wy = W[y]; by = b[y]\n",
        "    margins_ub = []\n",
        "    for j in range(C):\n",
        "        cj = W[j] - Wy\n",
        "        dj = b[j] - by\n",
        "        cj_pos = torch.clamp(cj, min=0.0)\n",
        "        cj_neg = torch.clamp(cj, max=0.0)\n",
        "        ub = (cj_pos * hi + cj_neg * lo).sum(dim=1) + dj\n",
        "        margins_ub.append(ub.unsqueeze(1))\n",
        "    margins_ub = torch.cat(margins_ub, dim=1)\n",
        "    margins_ub[torch.arange(B), y] = 0.0\n",
        "    return torch.logsumexp(margins_ub, dim=1).mean()\n",
        "\n",
        "@torch.no_grad()\n",
        "def certified_accuracy(model, eps):\n",
        "    robust, total = 0, 0\n",
        "    for images, labels in test_loader:\n",
        "        images, labels = images.to(device), labels.to(device)\n",
        "        lo, hi = ibp_penultimate_bounds(model, images, eps)\n",
        "        W, b = model.final.weight, model.final.bias\n",
        "        B = images.size(0)\n",
        "        Wy, by = W[labels], b[labels]\n",
        "        ok = torch.ones(B, dtype=torch.bool, device=images.device)\n",
        "        for j in range(W.size(0)):\n",
        "            cj = W[j] - Wy\n",
        "            dj = b[j] - by\n",
        "            cj_pos = torch.clamp(cj, min=0.0); cj_neg = torch.clamp(cj, max=0.0)\n",
        "            ub = (cj_pos * hi + cj_neg * lo).sum(dim=1) + dj\n",
        "            ok &= (ub < 0.0 + 1e-12)\n",
        "        robust += ok.sum().item(); total += B\n",
        "    return robust/total\n",
        "\n",
        "@torch.no_grad()\n",
        "def pgd_linf_acc(model, eps, alpha=0.01, steps=40, restarts=1):\n",
        "    model.eval()\n",
        "    tot, corr = 0, 0\n",
        "    for images, labels in test_loader:\n",
        "        images, labels = images.to(device), labels.to(device)\n",
        "        if eps == 0:\n",
        "            pred = model(images).argmax(1)\n",
        "            corr += (pred==labels).sum().item(); tot += labels.numel(); continue\n",
        "        best = torch.zeros_like(labels, dtype=torch.bool)\n",
        "        for _ in range(restarts):\n",
        "            delta = torch.empty_like(images).uniform_(-eps, eps)\n",
        "            delta = (torch.clamp(images + delta, 0, 1) - images).detach().requires_grad_(True)\n",
        "            for _ in range(steps):\n",
        "                logits = model(torch.clamp(images + delta, 0, 1))\n",
        "                loss = F.cross_entropy(logits, labels, reduction='sum')\n",
        "                grad = torch.autograd.grad(loss, delta)[0]\n",
        "                delta = (delta + alpha * torch.sign(grad)).clamp(-eps, eps)\n",
        "                delta = (torch.clamp(images + delta, 0, 1) - images).detach().requires_grad_(True)\n",
        "            preds = model(torch.clamp(images + delta, 0, 1)).argmax(1)\n",
        "            best |= (preds == labels)\n",
        "        corr += best.sum().item(); tot += labels.numel()\n",
        "    return corr/tot\n"
      ],
      "metadata": {
        "id": "91jLeLuvjcHM"
      },
      "id": "91jLeLuvjcHM",
      "execution_count": 56,
      "outputs": []
    },
    {
      "cell_type": "code",
      "execution_count": 57,
      "id": "0a6282f7",
      "metadata": {
        "id": "0a6282f7"
      },
      "outputs": [],
      "source": [
        "def train_model_ibp(model, num_epochs, lr=0.001):\n",
        "    criterion = nn.CrossEntropyLoss()\n",
        "    optimizer = optim.SGD(model.parameters(), lr, momentum=0.9)\n",
        "\n",
        "    step = 0\n",
        "    total_steps = num_epochs * len(train_loader)\n",
        "    for epoch in range(num_epochs):\n",
        "        model.train()\n",
        "        running_loss = 0.0\n",
        "\n",
        "        for i, data in enumerate(train_loader, 0):\n",
        "            images, labels = data\n",
        "            images, labels = images.to(device), labels.to(device)\n",
        "\n",
        "            # calculate kappa and epsilon, kappa will gradually reduce to 0.5, eps will gradually increase to 0.1\n",
        "            kappa = 1.0 + (0.5 - 1.0) * (step / total_steps)\n",
        "            eps = 0.1 * (step / total_steps)\n",
        "\n",
        "            optimizer.zero_grad()\n",
        "            logits = model(images)\n",
        "            ce = F.cross_entropy(logits, labels)\n",
        "            rce = robust_ce_upper_bound(model, images, labels, eps)\n",
        "            loss = kappa * ce + (1.0 - kappa) * rce\n",
        "            loss.backward()\n",
        "            optimizer.step()\n",
        "            running_loss += loss.item()\n",
        "            step += 1\n",
        "\n",
        "        print(f'Epoch {epoch+1}/{num_epochs}, Loss: {running_loss/len(train_loader):.3f}, eps={eps:.3f}, kappa={kappa:.3f}')\n",
        "\n",
        "\n",
        "def train_model(model, num_epochs):\n",
        "    criterion = nn.CrossEntropyLoss()\n",
        "    optimizer = optim.SGD(model.parameters(), lr=0.001, momentum=0.9)\n",
        "\n",
        "    for epoch in range(num_epochs):\n",
        "        model.train()\n",
        "        running_loss = 0.0\n",
        "        for i, data in enumerate(train_loader, 0):\n",
        "            images, labels = data\n",
        "            images, labels = images.to(device), labels.to(device)\n",
        "\n",
        "            optimizer.zero_grad()\n",
        "            outputs = model(images)\n",
        "            loss = criterion(outputs, labels)\n",
        "            loss.backward()\n",
        "            optimizer.step()\n",
        "\n",
        "            running_loss += loss.item()\n",
        "\n",
        "        print(f'Epoch {epoch+1}/{num_epochs}, Loss: {running_loss/len(train_loader):.3f}')\n",
        "\n",
        "\n",
        "def test_model(model):\n",
        "    model.eval()\n",
        "    with torch.no_grad():\n",
        "        correct = 0\n",
        "        total = 0\n",
        "        for data in test_loader:\n",
        "            images, labels = data\n",
        "            images, labels = images.to(device), labels.to(device)\n",
        "            outputs = model(images)\n",
        "            _, predicted = torch.max(outputs.data, 1)\n",
        "            total += labels.size(0)\n",
        "            correct += (predicted == labels).sum().item()\n",
        "        print(f'Accuracy on images: {100 * correct / total}')"
      ]
    },
    {
      "cell_type": "code",
      "execution_count": 58,
      "id": "72dd8bd6",
      "metadata": {
        "colab": {
          "base_uri": "https://localhost:8080/"
        },
        "id": "72dd8bd6",
        "outputId": "40530fc1-c16c-4dc8-9486-7571d7080e5e"
      },
      "outputs": [
        {
          "output_type": "stream",
          "name": "stdout",
          "text": [
            "Epoch 1/10, Loss: 1.328\n",
            "Epoch 2/10, Loss: 0.379\n",
            "Epoch 3/10, Loss: 0.289\n",
            "Epoch 4/10, Loss: 0.237\n",
            "Epoch 5/10, Loss: 0.200\n",
            "Epoch 6/10, Loss: 0.175\n",
            "Epoch 7/10, Loss: 0.156\n",
            "Epoch 8/10, Loss: 0.142\n",
            "Epoch 9/10, Loss: 0.131\n",
            "Epoch 10/10, Loss: 0.120\n",
            "Training time: 104.25 seconds\n",
            "Accuracy on images: 96.14\n"
          ]
        }
      ],
      "source": [
        "tik = time.time()\n",
        "train_model(model, 10)\n",
        "tok = time.time()\n",
        "print(f\"Training time: {tok - tik:.2f} seconds\")\n",
        "test_model(model)"
      ]
    },
    {
      "cell_type": "code",
      "source": [
        "ibp_model = Net()\n",
        "ibp_model = ibp_model.to(device)\n",
        "ibp_model.train()\n",
        "\n",
        "tik = time.time()\n",
        "train_model_ibp(ibp_model, 10, lr=0.01)\n",
        "tok = time.time()\n",
        "print(f\"Training time: {tok - tik:.2f} seconds\")\n",
        "test_model(ibp_model)"
      ],
      "metadata": {
        "colab": {
          "base_uri": "https://localhost:8080/"
        },
        "id": "pEj90NYswxCX",
        "outputId": "43160e7b-32e6-4d8b-ff14-c0f36017b2ca"
      },
      "id": "pEj90NYswxCX",
      "execution_count": 59,
      "outputs": [
        {
          "output_type": "stream",
          "name": "stdout",
          "text": [
            "Epoch 1/10, Loss: 0.466, eps=0.010, kappa=0.950\n",
            "Epoch 2/10, Loss: 0.240, eps=0.020, kappa=0.900\n",
            "Epoch 3/10, Loss: 0.234, eps=0.030, kappa=0.850\n",
            "Epoch 4/10, Loss: 0.254, eps=0.040, kappa=0.800\n",
            "Epoch 5/10, Loss: 0.287, eps=0.050, kappa=0.750\n",
            "Epoch 6/10, Loss: 0.330, eps=0.060, kappa=0.700\n",
            "Epoch 7/10, Loss: 0.383, eps=0.070, kappa=0.650\n",
            "Epoch 8/10, Loss: 0.444, eps=0.080, kappa=0.600\n",
            "Epoch 9/10, Loss: 0.517, eps=0.090, kappa=0.550\n",
            "Epoch 10/10, Loss: 0.598, eps=0.100, kappa=0.500\n",
            "Training time: 170.51 seconds\n",
            "Accuracy on images: 94.25\n"
          ]
        }
      ]
    },
    {
      "cell_type": "markdown",
      "id": "c7c23f92",
      "metadata": {
        "id": "c7c23f92"
      },
      "source": [
        "### Write the interval analysis for the simple model"
      ]
    },
    {
      "cell_type": "code",
      "execution_count": 42,
      "id": "d97f7f25",
      "metadata": {
        "colab": {
          "base_uri": "https://localhost:8080/"
        },
        "id": "d97f7f25",
        "outputId": "a7d075bd-c243-4674-a4c9-6f0a53c55a2e"
      },
      "outputs": [
        {
          "output_type": "stream",
          "name": "stdout",
          "text": [
            "Requirement already satisfied: bound-propagation in /usr/local/lib/python3.12/dist-packages (0.4.6)\n",
            "Requirement already satisfied: torch in /usr/local/lib/python3.12/dist-packages (from bound-propagation) (2.8.0+cu126)\n",
            "Requirement already satisfied: numpy in /usr/local/lib/python3.12/dist-packages (from bound-propagation) (2.0.2)\n",
            "Requirement already satisfied: filelock in /usr/local/lib/python3.12/dist-packages (from torch->bound-propagation) (3.20.0)\n",
            "Requirement already satisfied: typing-extensions>=4.10.0 in /usr/local/lib/python3.12/dist-packages (from torch->bound-propagation) (4.15.0)\n",
            "Requirement already satisfied: setuptools in /usr/local/lib/python3.12/dist-packages (from torch->bound-propagation) (75.2.0)\n",
            "Requirement already satisfied: sympy>=1.13.3 in /usr/local/lib/python3.12/dist-packages (from torch->bound-propagation) (1.13.3)\n",
            "Requirement already satisfied: networkx in /usr/local/lib/python3.12/dist-packages (from torch->bound-propagation) (3.5)\n",
            "Requirement already satisfied: jinja2 in /usr/local/lib/python3.12/dist-packages (from torch->bound-propagation) (3.1.6)\n",
            "Requirement already satisfied: fsspec in /usr/local/lib/python3.12/dist-packages (from torch->bound-propagation) (2025.3.0)\n",
            "Requirement already satisfied: nvidia-cuda-nvrtc-cu12==12.6.77 in /usr/local/lib/python3.12/dist-packages (from torch->bound-propagation) (12.6.77)\n",
            "Requirement already satisfied: nvidia-cuda-runtime-cu12==12.6.77 in /usr/local/lib/python3.12/dist-packages (from torch->bound-propagation) (12.6.77)\n",
            "Requirement already satisfied: nvidia-cuda-cupti-cu12==12.6.80 in /usr/local/lib/python3.12/dist-packages (from torch->bound-propagation) (12.6.80)\n",
            "Requirement already satisfied: nvidia-cudnn-cu12==9.10.2.21 in /usr/local/lib/python3.12/dist-packages (from torch->bound-propagation) (9.10.2.21)\n",
            "Requirement already satisfied: nvidia-cublas-cu12==12.6.4.1 in /usr/local/lib/python3.12/dist-packages (from torch->bound-propagation) (12.6.4.1)\n",
            "Requirement already satisfied: nvidia-cufft-cu12==11.3.0.4 in /usr/local/lib/python3.12/dist-packages (from torch->bound-propagation) (11.3.0.4)\n",
            "Requirement already satisfied: nvidia-curand-cu12==10.3.7.77 in /usr/local/lib/python3.12/dist-packages (from torch->bound-propagation) (10.3.7.77)\n",
            "Requirement already satisfied: nvidia-cusolver-cu12==11.7.1.2 in /usr/local/lib/python3.12/dist-packages (from torch->bound-propagation) (11.7.1.2)\n",
            "Requirement already satisfied: nvidia-cusparse-cu12==12.5.4.2 in /usr/local/lib/python3.12/dist-packages (from torch->bound-propagation) (12.5.4.2)\n",
            "Requirement already satisfied: nvidia-cusparselt-cu12==0.7.1 in /usr/local/lib/python3.12/dist-packages (from torch->bound-propagation) (0.7.1)\n",
            "Requirement already satisfied: nvidia-nccl-cu12==2.27.3 in /usr/local/lib/python3.12/dist-packages (from torch->bound-propagation) (2.27.3)\n",
            "Requirement already satisfied: nvidia-nvtx-cu12==12.6.77 in /usr/local/lib/python3.12/dist-packages (from torch->bound-propagation) (12.6.77)\n",
            "Requirement already satisfied: nvidia-nvjitlink-cu12==12.6.85 in /usr/local/lib/python3.12/dist-packages (from torch->bound-propagation) (12.6.85)\n",
            "Requirement already satisfied: nvidia-cufile-cu12==1.11.1.6 in /usr/local/lib/python3.12/dist-packages (from torch->bound-propagation) (1.11.1.6)\n",
            "Requirement already satisfied: triton==3.4.0 in /usr/local/lib/python3.12/dist-packages (from torch->bound-propagation) (3.4.0)\n",
            "Requirement already satisfied: mpmath<1.4,>=1.1.0 in /usr/local/lib/python3.12/dist-packages (from sympy>=1.13.3->torch->bound-propagation) (1.3.0)\n",
            "Requirement already satisfied: MarkupSafe>=2.0 in /usr/local/lib/python3.12/dist-packages (from jinja2->torch->bound-propagation) (3.0.3)\n"
          ]
        }
      ],
      "source": [
        "!pip install bound-propagation"
      ]
    },
    {
      "cell_type": "code",
      "source": [
        "from bound_propagation import BoundModelFactory, HyperRectangle\n",
        "\n",
        "def to_seq(net, mean=0.1307, std=0.3081):\n",
        "    with torch.no_grad():\n",
        "        W1 = net.fc1.weight.clone()\n",
        "        b1 = net.fc1.bias.clone()\n",
        "        W1p = W1 / std\n",
        "        b1p = b1 - (mean/std) * W1.sum(dim=1)\n",
        "\n",
        "        seq = nn.Sequential(\n",
        "            nn.Linear(28*28, 50), nn.ReLU(),\n",
        "            nn.Linear(50, 50),    nn.ReLU(),\n",
        "            nn.Linear(50, 50),    nn.ReLU(),\n",
        "            nn.Linear(50, 10),\n",
        "        )\n",
        "        seq[0].weight.copy_(W1p); seq[0].bias.copy_(b1p)\n",
        "        seq[2].weight.copy_(net.fc2.weight); seq[2].bias.copy_(net.fc2.bias)\n",
        "        seq[4].weight.copy_(net.fc3.weight); seq[4].bias.copy_(net.fc3.bias)\n",
        "        seq[6].weight.copy_(net.final.weight); seq[6].bias.copy_(net.final.bias)\n",
        "        return seq.eval()\n",
        "\n",
        "@torch.no_grad()\n",
        "def verify(bounded_net, images, labels, epsilon):\n",
        "    verified, total = 0, 0\n",
        "    for i in range(len(images)):\n",
        "        x = images[i:i+1].view(1, -1)\n",
        "        lower = torch.clamp(x - epsilon, 0, 1)\n",
        "        upper = torch.clamp(x + epsilon, 0, 1)\n",
        "\n",
        "        input_bounds = HyperRectangle(lower, upper)\n",
        "        output_bounds = bounded_net.ibp(input_bounds)\n",
        "\n",
        "        label = labels[i].item()\n",
        "        true_lower = output_bounds.lower[0, label]\n",
        "        is_robust = True\n",
        "        for j in range(10):\n",
        "            if j != label and true_lower <= output_bounds.upper[0, j]:\n",
        "                is_robust = False\n",
        "                break\n",
        "        if is_robust:\n",
        "            verified += 1\n",
        "        total += 1\n",
        "\n",
        "    return 100.0 * verified / total"
      ],
      "metadata": {
        "id": "0MsI9nwZ6N0m"
      },
      "id": "0MsI9nwZ6N0m",
      "execution_count": 79,
      "outputs": []
    },
    {
      "cell_type": "code",
      "source": [
        "seq = to_seq(model.eval())\n",
        "factory = BoundModelFactory()\n",
        "bounded_net = factory.build(seq)\n",
        "\n",
        "eps_range = np.linspace(0.01, 0.1, 10)\n",
        "\n",
        "for epsilon in eps_range:\n",
        "    images, labels = next(iter(test_loader))\n",
        "    accuracy = verify(bounded_net, images, labels, epsilon)\n",
        "    print(f\"ε = {epsilon:.3f}: {accuracy:.1f}% verified\")"
      ],
      "metadata": {
        "colab": {
          "base_uri": "https://localhost:8080/"
        },
        "id": "Iav2MZf6i9EN",
        "outputId": "9d180d13-ecd7-427f-bc62-0d5685a7788e"
      },
      "id": "Iav2MZf6i9EN",
      "execution_count": 80,
      "outputs": [
        {
          "output_type": "stream",
          "name": "stdout",
          "text": [
            "ε = 0.010: 0.0% verified\n",
            "ε = 0.020: 0.0% verified\n",
            "ε = 0.030: 0.0% verified\n",
            "ε = 0.040: 0.0% verified\n",
            "ε = 0.050: 0.0% verified\n",
            "ε = 0.060: 0.0% verified\n",
            "ε = 0.070: 0.0% verified\n",
            "ε = 0.080: 0.0% verified\n",
            "ε = 0.090: 0.0% verified\n",
            "ε = 0.100: 0.0% verified\n"
          ]
        }
      ]
    },
    {
      "cell_type": "code",
      "source": [
        "ibp_seq = to_seq(ibp_model.eval())\n",
        "factory = BoundModelFactory()\n",
        "ibp_bounded_net = factory.build(ibp_seq)\n",
        "\n",
        "eps_range = np.linspace(0.01, 0.1, 10)\n",
        "\n",
        "for epsilon in eps_range:\n",
        "    images, labels = next(iter(test_loader))\n",
        "    accuracy = verify(ibp_bounded_net, images, labels, epsilon)\n",
        "    print(f\"ε = {epsilon:.3f}: {accuracy:.1f}% verified\")"
      ],
      "metadata": {
        "colab": {
          "base_uri": "https://localhost:8080/"
        },
        "id": "NgQkHMzq6SZD",
        "outputId": "9c3baf1f-c252-405f-9184-b44b1c3ea809"
      },
      "id": "NgQkHMzq6SZD",
      "execution_count": 81,
      "outputs": [
        {
          "output_type": "stream",
          "name": "stdout",
          "text": [
            "ε = 0.010: 95.3% verified\n",
            "ε = 0.020: 93.8% verified\n",
            "ε = 0.030: 89.1% verified\n",
            "ε = 0.040: 79.7% verified\n",
            "ε = 0.050: 68.8% verified\n",
            "ε = 0.060: 62.5% verified\n",
            "ε = 0.070: 54.7% verified\n",
            "ε = 0.080: 40.6% verified\n",
            "ε = 0.090: 28.1% verified\n",
            "ε = 0.100: 20.3% verified\n"
          ]
        }
      ]
    },
    {
      "cell_type": "code",
      "source": [
        "def analyze_sample(model, bounded_net, images, labels, epsilon, device):\n",
        "    model.eval()\n",
        "    for i in range(len(images)):\n",
        "        x = images[i:i+1].view(1, -1)\n",
        "        lo = torch.clamp(x - epsilon, 0, 1)\n",
        "        hi = torch.clamp(x + epsilon, 0, 1)\n",
        "\n",
        "        b = bounded_net.ibp(HyperRectangle(lo, hi))\n",
        "\n",
        "        y = labels[i].item()\n",
        "        tl = b.lower[0, y]\n",
        "        ou = b.upper[0].clone(); ou[y] = float('-inf')\n",
        "\n",
        "        if not (tl > ou.max()):\n",
        "            lower_vec = b.lower[0].detach().cpu()\n",
        "            upper_vec = b.upper[0].detach().cpu()\n",
        "            x0 = images[i:i+1].cpu()\n",
        "            y0 = labels[i:i+1].cpu()\n",
        "\n",
        "            lc = model(x0.to(device)).detach().cpu().squeeze(0)\n",
        "            delta = torch.empty_like(x0).uniform_(-epsilon, epsilon)\n",
        "            delta = (torch.clamp(x0 + delta, 0, 1) - x0).detach().requires_grad_(True)\n",
        "\n",
        "            for _ in range(40):\n",
        "                logits = model(torch.clamp(x0.to(device) + delta.to(device), 0, 1))\n",
        "                loss = F.cross_entropy(logits, y0.to(device), reduction='sum')\n",
        "                g = torch.autograd.grad(loss, delta)[0]\n",
        "                delta.data = (delta + 0.01 * torch.sign(g)).clamp(-epsilon, epsilon)\n",
        "                delta.data = (torch.clamp(x0 + delta.data, 0, 1) - x0).data\n",
        "                delta.grad = None\n",
        "\n",
        "            x_adv = torch.clamp(x0 + delta.detach().cpu(), 0, 1)\n",
        "            la = model(x_adv.to(device)).detach().cpu().squeeze(0)\n",
        "            order = torch.argsort(upper_vec, descending=True).tolist()\n",
        "\n",
        "            fig, axs = plt.subplots(1,3,figsize=(9,3))\n",
        "            axs[0].imshow(x0[0,0], cmap='gray')\n",
        "            axs[0].axis('off')\n",
        "\n",
        "            axs[1].imshow(x_adv[0,0], cmap='gray')\n",
        "            axs[1].axis('off')\n",
        "\n",
        "            axs[2].imshow((x_adv - x0)[0,0], cmap='seismic')\n",
        "            axs[2].axis('off')\n",
        "\n",
        "            plt.tight_layout(); plt.show()\n",
        "\n",
        "            return {\n",
        "                \"index\": i,\n",
        "                \"true_label\": y,\n",
        "                \"bounds_lower\": lower_vec,\n",
        "                \"bounds_upper\": upper_vec,\n",
        "                \"clean_logits\": lc,\n",
        "                \"adv_logits\": la,\n",
        "                \"order_by_upper\": order,\n",
        "                \"x_clean\": x0,\n",
        "                \"x_adv\": x_adv,\n",
        "            }\n",
        "    return None\n"
      ],
      "metadata": {
        "id": "vdnA7ogrDq3e"
      },
      "id": "vdnA7ogrDq3e",
      "execution_count": 82,
      "outputs": []
    },
    {
      "cell_type": "code",
      "source": [
        "eps_range = np.linspace(0.01, 0.1, 10)\n",
        "\n",
        "for epsilon in eps_range:\n",
        "    images, labels = next(iter(test_loader))\n",
        "    result = analyze_sample(ibp_model, ibp_bounded_net, images, labels, epsilon, device)\n",
        "\n",
        "    y = int(result[\"true_label\"])\n",
        "    lower = result[\"bounds_lower\"].detach().cpu().numpy()\n",
        "    upper = result[\"bounds_upper\"].detach().cpu().numpy()\n",
        "    tl = float(lower[y])\n",
        "\n",
        "    order = upper.argsort()[::-1]\n",
        "    other_upper_max = float(upper[[c for c in range(10) if c != y]].max())\n",
        "    certified = tl > other_upper_max\n",
        "\n",
        "    print(f\"\\nIndex: {result['index']} | True label: {y}\")\n",
        "    print(f\"True lower (TL) = {tl:.4f} | max other UPPER = {other_upper_max:.4f} | certified = {certified}\")\n",
        "    print(\"\\nclass |     LOWER       UPPER    note\")\n",
        "    print(\"----- | ----------  ----------  -----------\")\n",
        "    for c in order:\n",
        "        note = []\n",
        "        if c == y:\n",
        "            note.append(\"TRUE (TL)\")\n",
        "        if c != y and upper[c] >= tl:\n",
        "            note.append(\"violates\")\n",
        "        tag = \" ; \".join(note)\n",
        "        print(f\"{c:>5} | {lower[c]:>10.4f}  {upper[c]:>10.4f}  {tag}\")\n"
      ],
      "metadata": {
        "colab": {
          "base_uri": "https://localhost:8080/",
          "height": 1000
        },
        "id": "A22zTB84OiEC",
        "outputId": "2b795146-fe74-46a2-e88a-c0267a7d901a"
      },
      "id": "A22zTB84OiEC",
      "execution_count": 88,
      "outputs": [
        {
          "output_type": "display_data",
          "data": {
            "text/plain": [
              "<Figure size 900x300 with 3 Axes>"
            ],
            "image/png": "[encoded data removed]"
          },
          "metadata": {}
        },
        {
          "output_type": "stream",
          "name": "stdout",
          "text": [
            "\n",
            "Index: 33 | True label: 4\n",
            "True lower (TL) = 0.7920 | max other UPPER = 4.6234 | certified = False\n",
            "\n",
            "class |     LOWER       UPPER    note\n",
            "----- | ----------  ----------  -----------\n",
            "    6 |     3.5538      4.6234  violates\n",
            "    0 |     2.2900      3.0898  violates\n",
            "    4 |     0.7920      1.6936  TRUE (TL)\n",
            "    2 |     0.2889      0.7517  \n",
            "    5 |    -0.5876      0.1826  \n",
            "    8 |    -0.8869     -0.3952  \n",
            "    7 |    -1.7733     -1.0841  \n",
            "    3 |    -2.1195     -1.6131  \n",
            "    1 |    -2.5245     -1.8883  \n",
            "    9 |    -3.3172     -1.9588  \n"
          ]
        },
        {
          "output_type": "display_data",
          "data": {
            "text/plain": [
              "<Figure size 900x300 with 3 Axes>"
            ],
            "image/png": "[encoded data removed]"
          },
          "metadata": {}
        },
        {
          "output_type": "stream",
          "name": "stdout",
          "text": [
            "\n",
            "Index: 33 | True label: 4\n",
            "True lower (TL) = 0.3243 | max other UPPER = 4.9876 | certified = False\n",
            "\n",
            "class |     LOWER       UPPER    note\n",
            "----- | ----------  ----------  -----------\n",
            "    6 |     2.9833      4.9876  violates\n",
            "    0 |     1.9601      3.4862  violates\n",
            "    4 |     0.3243      2.0252  TRUE (TL)\n",
            "    2 |     0.0750      0.9575  violates\n",
            "    5 |    -0.8538      0.6050  violates\n",
            "    8 |    -1.0661     -0.1429  \n",
            "    7 |    -2.0851     -0.7850  \n",
            "    9 |    -3.8618     -1.2433  \n",
            "    3 |    -2.3134     -1.3599  \n",
            "    1 |    -2.8511     -1.6781  \n"
          ]
        },
        {
          "output_type": "display_data",
          "data": {
            "text/plain": [
              "<Figure size 900x300 with 3 Axes>"
            ],
            "image/png": "[encoded data removed]"
          },
          "metadata": {}
        },
        {
          "output_type": "stream",
          "name": "stdout",
          "text": [
            "\n",
            "Index: 8 | True label: 5\n",
            "True lower (TL) = 5.2449 | max other UPPER = 5.6593 | certified = False\n",
            "\n",
            "class |     LOWER       UPPER    note\n",
            "----- | ----------  ----------  -----------\n",
            "    5 |     5.2449      7.1644  TRUE (TL)\n",
            "    6 |     4.0089      5.6593  violates\n",
            "    0 |     0.8815      1.8317  \n",
            "    8 |     0.7152      1.3253  \n",
            "    2 |    -1.4076     -0.6850  \n",
            "    9 |    -1.8003     -1.0396  \n",
            "    3 |    -1.9260     -1.0791  \n",
            "    1 |    -3.5936     -2.6817  \n",
            "    4 |    -4.3461     -2.7865  \n",
            "    7 |    -4.6837     -3.7347  \n"
          ]
        },
        {
          "output_type": "display_data",
          "data": {
            "text/plain": [
              "<Figure size 900x300 with 3 Axes>"
            ],
            "image/png": "[encoded data removed]"
          },
          "metadata": {}
        },
        {
          "output_type": "stream",
          "name": "stdout",
          "text": [
            "\n",
            "Index: 7 | True label: 9\n",
            "True lower (TL) = 2.8776 | max other UPPER = 3.0865 | certified = False\n",
            "\n",
            "class |     LOWER       UPPER    note\n",
            "----- | ----------  ----------  -----------\n",
            "    9 |     2.8776      5.0684  TRUE (TL)\n",
            "    4 |     0.4382      3.0865  violates\n",
            "    5 |     1.2145      2.9840  violates\n",
            "    3 |     1.1026      2.7455  \n",
            "    7 |    -0.2537      2.2392  \n",
            "    8 |     0.1873      1.7936  \n",
            "    2 |    -1.4741     -0.4666  \n",
            "    1 |    -2.6497     -0.5276  \n",
            "    0 |    -4.8094     -2.2751  \n",
            "    6 |    -6.1948     -3.0861  \n"
          ]
        },
        {
          "output_type": "display_data",
          "data": {
            "text/plain": [
              "<Figure size 900x300 with 3 Axes>"
            ],
            "image/png": "[encoded data removed]"
          },
          "metadata": {}
        },
        {
          "output_type": "stream",
          "name": "stdout",
          "text": [
            "\n",
            "Index: 1 | True label: 2\n",
            "True lower (TL) = 3.6878 | max other UPPER = 3.7182 | certified = False\n",
            "\n",
            "class |     LOWER       UPPER    note\n",
            "----- | ----------  ----------  -----------\n",
            "    2 |     3.6878      7.6144  TRUE (TL)\n",
            "    3 |     0.4636      3.7182  violates\n",
            "    7 |     0.2462      3.2944  \n",
            "    1 |    -0.2975      2.3700  \n",
            "    0 |    -1.7587      2.1805  \n",
            "    6 |    -2.6297      0.3253  \n",
            "    8 |    -1.6283      0.0734  \n",
            "    5 |    -3.5189     -1.5581  \n",
            "    4 |    -5.3425     -2.0427  \n",
            "    9 |    -5.8133     -2.8769  \n"
          ]
        },
        {
          "output_type": "display_data",
          "data": {
            "text/plain": [
              "<Figure size 900x300 with 3 Axes>"
            ],
            "image/png": "[encoded data removed]"
          },
          "metadata": {}
        },
        {
          "output_type": "stream",
          "name": "stdout",
          "text": [
            "\n",
            "Index: 1 | True label: 2\n",
            "True lower (TL) = 3.2161 | max other UPPER = 4.0591 | certified = False\n",
            "\n",
            "class |     LOWER       UPPER    note\n",
            "----- | ----------  ----------  -----------\n",
            "    2 |     3.2161      7.8551  TRUE (TL)\n",
            "    3 |     0.1973      4.0591  violates\n",
            "    7 |    -0.2110      3.4470  violates\n",
            "    1 |    -0.6686      2.5235  \n",
            "    0 |    -2.1518      2.5097  \n",
            "    6 |    -2.7385      0.8561  \n",
            "    8 |    -1.7271      0.3102  \n",
            "    5 |    -3.6250     -1.2791  \n",
            "    4 |    -5.6845     -1.7507  \n",
            "    9 |    -6.0493     -2.5477  \n"
          ]
        },
        {
          "output_type": "display_data",
          "data": {
            "text/plain": [
              "<Figure size 900x300 with 3 Axes>"
            ],
            "image/png": "[encoded data removed]"
          },
          "metadata": {}
        },
        {
          "output_type": "stream",
          "name": "stdout",
          "text": [
            "\n",
            "Index: 1 | True label: 2\n",
            "True lower (TL) = 2.7852 | max other UPPER = 4.3600 | certified = False\n",
            "\n",
            "class |     LOWER       UPPER    note\n",
            "----- | ----------  ----------  -----------\n",
            "    2 |     2.7852      8.0938  TRUE (TL)\n",
            "    3 |    -0.0616      4.3600  violates\n",
            "    7 |    -0.6496      3.5940  violates\n",
            "    0 |    -2.5115      2.8264  violates\n",
            "    1 |    -1.0281      2.6706  \n",
            "    6 |    -2.8388      1.3651  \n",
            "    8 |    -1.8233      0.5325  \n",
            "    5 |    -3.7307     -1.0213  \n",
            "    4 |    -6.0021     -1.4714  \n",
            "    9 |    -6.2748     -2.2332  \n"
          ]
        },
        {
          "output_type": "display_data",
          "data": {
            "text/plain": [
              "<Figure size 900x300 with 3 Axes>"
            ],
            "image/png": "[encoded data removed]"
          },
          "metadata": {}
        },
        {
          "output_type": "stream",
          "name": "stdout",
          "text": [
            "\n",
            "Index: 1 | True label: 2\n",
            "True lower (TL) = 2.4274 | max other UPPER = 4.6619 | certified = False\n",
            "\n",
            "class |     LOWER       UPPER    note\n",
            "----- | ----------  ----------  -----------\n",
            "    2 |     2.4274      8.3335  TRUE (TL)\n",
            "    3 |    -0.2925      4.6619  violates\n",
            "    7 |    -1.0638      3.7401  violates\n",
            "    0 |    -2.8623      3.1166  violates\n",
            "    1 |    -1.3808      2.8134  violates\n",
            "    6 |    -2.9680      1.8205  \n",
            "    8 |    -1.9130      0.7483  \n",
            "    5 |    -3.8300     -0.7746  \n",
            "    4 |    -6.3149     -1.2182  \n",
            "    9 |    -6.4914     -1.9450  \n"
          ]
        },
        {
          "output_type": "display_data",
          "data": {
            "text/plain": [
              "<Figure size 900x300 with 3 Axes>"
            ],
            "image/png": "[encoded data removed]"
          },
          "metadata": {}
        },
        {
          "output_type": "stream",
          "name": "stdout",
          "text": [
            "\n",
            "Index: 0 | True label: 7\n",
            "True lower (TL) = 6.8544 | max other UPPER = 7.1505 | certified = False\n",
            "\n",
            "class |     LOWER       UPPER    note\n",
            "----- | ----------  ----------  -----------\n",
            "    7 |     6.8544     18.4325  TRUE (TL)\n",
            "    9 |    -1.5298      7.1505  violates\n",
            "    3 |     0.0808      6.8191  \n",
            "    2 |    -0.2828      5.3258  \n",
            "    5 |    -2.3212      3.1045  \n",
            "    1 |    -4.1269      3.0913  \n",
            "    4 |    -8.8469      1.5300  \n",
            "    8 |    -5.0316      0.8704  \n",
            "    0 |    -8.2434      0.7264  \n",
            "    6 |   -12.6171     -3.4485  \n"
          ]
        },
        {
          "output_type": "display_data",
          "data": {
            "text/plain": [
              "<Figure size 900x300 with 3 Axes>"
            ],
            "image/png": "[encoded data removed]"
          },
          "metadata": {}
        },
        {
          "output_type": "stream",
          "name": "stdout",
          "text": [
            "\n",
            "Index: 0 | True label: 7\n",
            "True lower (TL) = 6.0060 | max other UPPER = 7.8001 | certified = False\n",
            "\n",
            "class |     LOWER       UPPER    note\n",
            "----- | ----------  ----------  -----------\n",
            "    7 |     6.0060     18.9566  TRUE (TL)\n",
            "    9 |    -1.9344      7.8001  violates\n",
            "    3 |    -0.4075      7.1069  violates\n",
            "    2 |    -0.8121      5.4874  \n",
            "    5 |    -2.5591      3.4988  \n",
            "    1 |    -4.6189      3.4315  \n",
            "    4 |    -9.2907      2.4085  \n",
            "    0 |    -8.6533      1.2870  \n",
            "    8 |    -5.4172      1.2438  \n",
            "    6 |   -13.0030     -3.0183  \n"
          ]
        }
      ]
    },
    {
      "cell_type": "code",
      "source": [],
      "metadata": {
        "id": "yvZBZLJhjmSO"
      },
      "id": "yvZBZLJhjmSO",
      "execution_count": null,
      "outputs": []
    }
  ],
  "metadata": {
    "kernelspec": {
      "display_name": "cs521",
      "language": "python",
      "name": "python3"
    },
    "language_info": {
      "codemirror_mode": {
        "name": "ipython",
        "version": 3
      },
      "file_extension": ".py",
      "mimetype": "text/x-python",
      "name": "python",
      "nbconvert_exporter": "python",
      "pygments_lexer": "ipython3",
      "version": "3.10.18"
    },
    "colab": {
      "provenance": [],
      "include_colab_link": true
    }
  },
  "nbformat": 4,
  "nbformat_minor": 5
}